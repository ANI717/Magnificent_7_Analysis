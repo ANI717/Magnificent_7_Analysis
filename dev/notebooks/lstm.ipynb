{
 "cells": [
  {
   "cell_type": "markdown",
   "id": "58cee676",
   "metadata": {},
   "source": [
    "### Install Dependency"
   ]
  },
  {
   "cell_type": "code",
   "execution_count": 1,
   "id": "987054a9",
   "metadata": {},
   "outputs": [],
   "source": [
    "import pandas as pd\n",
    "import numpy as np\n",
    "from sklearn.preprocessing import MinMaxScaler\n",
    "import torch\n",
    "from torch.utils.data import Dataset, DataLoader"
   ]
  },
  {
   "cell_type": "code",
   "execution_count": 3,
   "id": "3e8b2d42",
   "metadata": {},
   "outputs": [
    {
     "name": "stdout",
     "output_type": "stream",
     "text": [
      "2.7.1+cu118\n",
      "11.8\n",
      "True\n"
     ]
    }
   ],
   "source": [
    "print(torch.__version__)\n",
    "print(torch.version.cuda)\n",
    "print(torch.cuda.is_available())"
   ]
  },
  {
   "cell_type": "markdown",
   "id": "2105bc7c",
   "metadata": {},
   "source": [
    "### Ticker"
   ]
  },
  {
   "cell_type": "code",
   "execution_count": 4,
   "id": "f8076992",
   "metadata": {},
   "outputs": [],
   "source": [
    "ticker_symbol = \"NVDA\""
   ]
  },
  {
   "cell_type": "markdown",
   "id": "933c2b7d",
   "metadata": {},
   "source": [
    "### Data Collection"
   ]
  },
  {
   "cell_type": "code",
   "execution_count": 5,
   "id": "b044fbad",
   "metadata": {},
   "outputs": [],
   "source": [
    "import pandas as pd\n",
    "\n",
    "df = pd.read_csv(f'../data/{ticker_symbol}.csv')"
   ]
  },
  {
   "cell_type": "markdown",
   "id": "9d3ee3c6",
   "metadata": {},
   "source": [
    "### Prepare Data"
   ]
  },
  {
   "cell_type": "code",
   "execution_count": 6,
   "id": "04b847eb",
   "metadata": {},
   "outputs": [
    {
     "data": {
      "text/plain": [
       "Index(['Date', 'Open', 'High', 'Low', 'Close', 'Volume', 'RSI', 'MACD',\n",
       "       'MACD_signal', 'MACD_hist', 'BB_upper', 'BB_middle', 'BB_lower',\n",
       "       'Close_lag_1', 'Close_lag_2', 'Close_lag_3', 'Close_lag_4',\n",
       "       'Close_lag_5', 'Close_rolling_mean_5'],\n",
       "      dtype='object')"
      ]
     },
     "execution_count": 6,
     "metadata": {},
     "output_type": "execute_result"
    }
   ],
   "source": [
    "df.columns"
   ]
  },
  {
   "cell_type": "code",
   "execution_count": 7,
   "id": "61d30074",
   "metadata": {},
   "outputs": [],
   "source": [
    "features = [\n",
    "    'Open', 'High', 'Low', 'Close', 'Volume', 'RSI', 'MACD', 'MACD_signal', 'MACD_hist',\n",
    "    'BB_upper', 'BB_middle', 'BB_lower',\n",
    "    'Close_lag_1', 'Close_lag_2', 'Close_lag_3', 'Close_lag_4', 'Close_lag_5',\n",
    "    'Close_rolling_mean_5'\n",
    "]\n",
    "target = 'Close'"
   ]
  },
  {
   "cell_type": "code",
   "execution_count": 8,
   "id": "6653c438",
   "metadata": {},
   "outputs": [],
   "source": [
    "scaler = MinMaxScaler()\n",
    "scaled = scaler.fit_transform(df[features + [target]])"
   ]
  },
  {
   "cell_type": "code",
   "execution_count": 9,
   "id": "b14665da",
   "metadata": {},
   "outputs": [],
   "source": [
    "X = []\n",
    "y = []\n",
    "seq_len = 10\n",
    "\n",
    "for i in range(seq_len, len(scaled)):\n",
    "    X.append(scaled[i - seq_len:i, :-1])  # all features except target\n",
    "    y.append(scaled[i, -1])               # target = next day's Close\n",
    "\n",
    "X = np.array(X)\n",
    "y = np.array(y)"
   ]
  },
  {
   "cell_type": "markdown",
   "id": "e492b755",
   "metadata": {},
   "source": [
    "### Dataset and Dataloader"
   ]
  },
  {
   "cell_type": "code",
   "execution_count": 29,
   "id": "c2ad977b",
   "metadata": {},
   "outputs": [],
   "source": [
    "class StockDataset(Dataset):\n",
    "    def __init__(self, X, y):\n",
    "        self.X = torch.tensor(X, dtype=torch.float32)\n",
    "        self.y = torch.tensor(y, dtype=torch.float32)\n",
    "\n",
    "    def __len__(self):\n",
    "        return len(self.X)\n",
    "\n",
    "    def __getitem__(self, idx):\n",
    "        return self.X[idx], self.y[idx]"
   ]
  },
  {
   "cell_type": "code",
   "execution_count": 30,
   "id": "838714df",
   "metadata": {},
   "outputs": [],
   "source": [
    "split = int(0.8 * len(X))\n",
    "\n",
    "train_ds = StockDataset(X[:split], y[:split])\n",
    "test_ds = StockDataset(X[split:], y[split:])"
   ]
  },
  {
   "cell_type": "code",
   "execution_count": 31,
   "id": "d0621757",
   "metadata": {},
   "outputs": [],
   "source": [
    "train_dl = DataLoader(train_ds, batch_size=16, shuffle=False)\n",
    "test_dl = DataLoader(test_ds, batch_size=16, shuffle=False)"
   ]
  },
  {
   "cell_type": "markdown",
   "id": "281b0733",
   "metadata": {},
   "source": [
    "### Define LSTM Model"
   ]
  },
  {
   "cell_type": "code",
   "execution_count": 24,
   "id": "78af9816",
   "metadata": {},
   "outputs": [],
   "source": [
    "import torch.nn as nn\n",
    "\n",
    "\n",
    "class LSTMModel(nn.Module):\n",
    "    def __init__(self, input_size, hidden_size=64, num_layers=2):\n",
    "        super().__init__()\n",
    "        self.lstm = nn.LSTM(input_size, hidden_size, num_layers, batch_first=True)\n",
    "        self.fc = nn.Linear(hidden_size, 1)\n",
    "\n",
    "    def forward(self, x):\n",
    "        out, _ = self.lstm(x)\n",
    "        out = self.fc(out[:, -1, :])  # only last time step\n",
    "        return out.squeeze()\n"
   ]
  },
  {
   "cell_type": "code",
   "execution_count": 25,
   "id": "483781de",
   "metadata": {},
   "outputs": [],
   "source": [
    "model = LSTMModel(input_size=X.shape[2])"
   ]
  },
  {
   "cell_type": "markdown",
   "id": "a0bc6822",
   "metadata": {},
   "source": [
    "### Train the Model"
   ]
  },
  {
   "cell_type": "code",
   "execution_count": 27,
   "id": "dbb5e49a",
   "metadata": {},
   "outputs": [],
   "source": [
    "import torch.optim as optim\n",
    "\n",
    "device = torch.device(\"cuda\" if torch.cuda.is_available() else \"cpu\")\n",
    "model = model.to(device)\n",
    "\n",
    "criterion = nn.MSELoss()\n",
    "optimizer = optim.Adam(model.parameters(), lr=0.001)"
   ]
  },
  {
   "cell_type": "code",
   "execution_count": 32,
   "id": "2ecc5717",
   "metadata": {},
   "outputs": [
    {
     "name": "stdout",
     "output_type": "stream",
     "text": [
      "Epoch 1, Loss: 0.0069\n",
      "Epoch 2, Loss: 0.0578\n",
      "Epoch 3, Loss: 0.0214\n",
      "Epoch 4, Loss: 0.0011\n",
      "Epoch 5, Loss: 0.0018\n",
      "Epoch 6, Loss: 0.0022\n",
      "Epoch 7, Loss: 0.0021\n",
      "Epoch 8, Loss: 0.0021\n",
      "Epoch 9, Loss: 0.0022\n",
      "Epoch 10, Loss: 0.0022\n",
      "Epoch 11, Loss: 0.0023\n",
      "Epoch 12, Loss: 0.0025\n",
      "Epoch 13, Loss: 0.0027\n",
      "Epoch 14, Loss: 0.0030\n",
      "Epoch 15, Loss: 0.0035\n",
      "Epoch 16, Loss: 0.0041\n",
      "Epoch 17, Loss: 0.0048\n",
      "Epoch 18, Loss: 0.0052\n",
      "Epoch 19, Loss: 0.0041\n",
      "Epoch 20, Loss: 0.0029\n",
      "Epoch 21, Loss: 0.0055\n",
      "Epoch 22, Loss: 0.0044\n",
      "Epoch 23, Loss: 0.0012\n",
      "Epoch 24, Loss: 0.0047\n",
      "Epoch 25, Loss: 0.0017\n",
      "Epoch 26, Loss: 0.0007\n",
      "Epoch 27, Loss: 0.0007\n",
      "Epoch 28, Loss: 0.0007\n",
      "Epoch 29, Loss: 0.0007\n",
      "Epoch 30, Loss: 0.0007\n",
      "Epoch 31, Loss: 0.0006\n",
      "Epoch 32, Loss: 0.0006\n",
      "Epoch 33, Loss: 0.0005\n",
      "Epoch 34, Loss: 0.0005\n",
      "Epoch 35, Loss: 0.0005\n",
      "Epoch 36, Loss: 0.0005\n",
      "Epoch 37, Loss: 0.0005\n",
      "Epoch 38, Loss: 0.0004\n",
      "Epoch 39, Loss: 0.0004\n",
      "Epoch 40, Loss: 0.0005\n",
      "Epoch 41, Loss: 0.0005\n",
      "Epoch 42, Loss: 0.0006\n",
      "Epoch 43, Loss: 0.0006\n",
      "Epoch 44, Loss: 0.0008\n",
      "Epoch 45, Loss: 0.0009\n",
      "Epoch 46, Loss: 0.0011\n",
      "Epoch 47, Loss: 0.0013\n",
      "Epoch 48, Loss: 0.0015\n",
      "Epoch 49, Loss: 0.0019\n",
      "Epoch 50, Loss: 0.0023\n"
     ]
    }
   ],
   "source": [
    "for epoch in range(50):\n",
    "    model.train()\n",
    "    epoch_loss = 0\n",
    "    for xb, yb in train_dl:\n",
    "        xb, yb = xb.to(device), yb.to(device)\n",
    "\n",
    "        optimizer.zero_grad()\n",
    "        pred = model(xb)\n",
    "        loss = criterion(pred, yb)\n",
    "        loss.backward()\n",
    "        optimizer.step()\n",
    "        epoch_loss += loss.item()\n",
    "\n",
    "    print(f\"Epoch {epoch+1}, Loss: {epoch_loss/len(train_dl):.4f}\")"
   ]
  },
  {
   "cell_type": "markdown",
   "id": "eb7cd66f",
   "metadata": {},
   "source": [
    "### Evaluate & Plot"
   ]
  },
  {
   "cell_type": "code",
   "execution_count": 35,
   "id": "1f4eb99b",
   "metadata": {},
   "outputs": [],
   "source": [
    "model.eval()\n",
    "preds = []\n",
    "actuals = []\n",
    "\n",
    "with torch.no_grad():\n",
    "    for xb, yb in test_dl:\n",
    "        xb = xb.to(device)\n",
    "        yb = yb.to(device)\n",
    "\n",
    "        pred = model(xb)  # shape: (batch_size,)\n",
    "        preds.extend(pred.cpu().view(-1).numpy())      # flatten and collect\n",
    "        actuals.extend(yb.cpu().view(-1).numpy())\n",
    "\n",
    "# Convert to proper 2D shape\n",
    "preds = np.array(preds).reshape(-1, 1)\n",
    "actuals = np.array(actuals).reshape(-1, 1)\n",
    "\n",
    "# Invert scaling using dummy feature vectors (zeros for all input features)\n",
    "blank = np.zeros((len(preds), len(features)))  # same as X.shape[2]\n",
    "reconstructed_pred = scaler.inverse_transform(np.hstack([blank, preds]))[:, -1]\n",
    "reconstructed_true = scaler.inverse_transform(np.hstack([blank, actuals]))[:, -1]\n"
   ]
  },
  {
   "cell_type": "code",
   "execution_count": 38,
   "id": "8fa4a69d",
   "metadata": {},
   "outputs": [
    {
     "data": {
      "image/png": "[encoded data removed]",
      "text/plain": [
       "<Figure size 640x480 with 1 Axes>"
      ]
     },
     "metadata": {},
     "output_type": "display_data"
    }
   ],
   "source": [
    "import matplotlib.pyplot as plt\n",
    "plt.plot(reconstructed_true, label='Actual')\n",
    "plt.plot(reconstructed_pred, label='Predicted')\n",
    "plt.legend()\n",
    "plt.title(\"LSTM Price Prediction (PyTorch)\")\n",
    "plt.grid()\n",
    "plt.show()"
   ]
  },
  {
   "cell_type": "markdown",
   "id": "ae24f00f",
   "metadata": {},
   "source": [
    "### Predict Next Day"
   ]
  },
  {
   "cell_type": "code",
   "execution_count": 39,
   "id": "6d4a6918",
   "metadata": {},
   "outputs": [],
   "source": [
    "last_seq = df[features].iloc[-10:].values"
   ]
  },
  {
   "cell_type": "code",
   "execution_count": 40,
   "id": "aa92f446",
   "metadata": {},
   "outputs": [
    {
     "name": "stderr",
     "output_type": "stream",
     "text": [
      "f:\\GitHub\\Magnificent_7_Analysis\\dev\\venv\\Lib\\site-packages\\sklearn\\utils\\validation.py:2749: UserWarning: X does not have valid feature names, but MinMaxScaler was fitted with feature names\n",
      "  warnings.warn(\n"
     ]
    }
   ],
   "source": [
    "dummy_close = df[\"Close\"].iloc[-10:].values.reshape(-1, 1)\n",
    "last_seq_scaled = scaler.transform(np.hstack([last_seq, dummy_close]))[:, :-1]"
   ]
  },
  {
   "cell_type": "code",
   "execution_count": 41,
   "id": "73bd99e6",
   "metadata": {},
   "outputs": [],
   "source": [
    "input_tensor = torch.tensor(last_seq_scaled, dtype=torch.float32).unsqueeze(0).to(device)"
   ]
  },
  {
   "cell_type": "code",
   "execution_count": 42,
   "id": "947297b6",
   "metadata": {},
   "outputs": [],
   "source": [
    "model.eval()\n",
    "with torch.no_grad():\n",
    "    pred_scaled = model(input_tensor).cpu().numpy().reshape(-1, 1)\n",
    "\n",
    "# Inverse transform\n",
    "blank = np.zeros((1, len(features)))\n",
    "reconstructed = scaler.inverse_transform(np.hstack([blank, pred_scaled]))\n",
    "next_day_close = reconstructed[0, -1]"
   ]
  },
  {
   "cell_type": "code",
   "execution_count": 43,
   "id": "1265e3ff",
   "metadata": {},
   "outputs": [
    {
     "name": "stdout",
     "output_type": "stream",
     "text": [
      "Predicted Close Price for Tomorrow: 170.37\n"
     ]
    }
   ],
   "source": [
    "print(f\"Predicted Close Price for Tomorrow: {next_day_close:.2f}\")"
   ]
  }
 ],
 "metadata": {
  "kernelspec": {
   "display_name": "venv",
   "language": "python",
   "name": "python3"
  },
  "language_info": {
   "codemirror_mode": {
    "name": "ipython",
    "version": 3
   },
   "file_extension": ".py",
   "mimetype": "text/x-python",
   "name": "python",
   "nbconvert_exporter": "python",
   "pygments_lexer": "ipython3",
   "version": "3.12.7"
  }
 },
 "nbformat": 4,
 "nbformat_minor": 5
}
