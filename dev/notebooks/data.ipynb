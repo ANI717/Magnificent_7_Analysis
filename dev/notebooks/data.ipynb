{
 "cells": [
  {
   "cell_type": "markdown",
   "id": "45f21748",
   "metadata": {},
   "source": [
    "## Ticker"
   ]
  },
  {
   "cell_type": "code",
   "execution_count": 14,
   "id": "357d3e1d",
   "metadata": {},
   "outputs": [],
   "source": [
    "ticker_symbol = \"NVDA\""
   ]
  },
  {
   "cell_type": "markdown",
   "id": "80fa0f65",
   "metadata": {},
   "source": [
    "## Data Collection"
   ]
  },
  {
   "cell_type": "code",
   "execution_count": 15,
   "id": "00607d5a",
   "metadata": {},
   "outputs": [],
   "source": [
    "import yfinance as yf\n",
    "\n",
    "ticker = yf.Ticker(ticker_symbol)\n",
    "df = ticker.history(period=\"3y\")  # 1 year of daily data\n",
    "df = df[[\"Open\", \"High\", \"Low\", \"Close\", \"Volume\"]]\n",
    "df.reset_index(inplace=True)\n"
   ]
  },
  {
   "cell_type": "code",
   "execution_count": 16,
   "id": "b48d7e89",
   "metadata": {},
   "outputs": [
    {
     "data": {
      "text/html": [
       "<div>\n",
       "<style scoped>\n",
       "    .dataframe tbody tr th:only-of-type {\n",
       "        vertical-align: middle;\n",
       "    }\n",
       "\n",
       "    .dataframe tbody tr th {\n",
       "        vertical-align: top;\n",
       "    }\n",
       "\n",
       "    .dataframe thead th {\n",
       "        text-align: right;\n",
       "    }\n",
       "</style>\n",
       "<table border=\"1\" class=\"dataframe\">\n",
       "  <thead>\n",
       "    <tr style=\"text-align: right;\">\n",
       "      <th></th>\n",
       "      <th>Date</th>\n",
       "      <th>Open</th>\n",
       "      <th>High</th>\n",
       "      <th>Low</th>\n",
       "      <th>Close</th>\n",
       "      <th>Volume</th>\n",
       "    </tr>\n",
       "  </thead>\n",
       "  <tbody>\n",
       "    <tr>\n",
       "      <th>0</th>\n",
       "      <td>2022-07-25 00:00:00-04:00</td>\n",
       "      <td>16.994482</td>\n",
       "      <td>17.099332</td>\n",
       "      <td>16.625016</td>\n",
       "      <td>16.999475</td>\n",
       "      <td>480748000</td>\n",
       "    </tr>\n",
       "    <tr>\n",
       "      <th>1</th>\n",
       "      <td>2022-07-26 00:00:00-04:00</td>\n",
       "      <td>16.864672</td>\n",
       "      <td>16.894629</td>\n",
       "      <td>16.454265</td>\n",
       "      <td>16.509186</td>\n",
       "      <td>397865000</td>\n",
       "    </tr>\n",
       "    <tr>\n",
       "      <th>2</th>\n",
       "      <td>2022-07-27 00:00:00-04:00</td>\n",
       "      <td>17.007466</td>\n",
       "      <td>17.910165</td>\n",
       "      <td>16.888638</td>\n",
       "      <td>17.764376</td>\n",
       "      <td>569776000</td>\n",
       "    </tr>\n",
       "    <tr>\n",
       "      <th>3</th>\n",
       "      <td>2022-07-28 00:00:00-04:00</td>\n",
       "      <td>17.949110</td>\n",
       "      <td>18.113871</td>\n",
       "      <td>17.414880</td>\n",
       "      <td>17.958096</td>\n",
       "      <td>474646000</td>\n",
       "    </tr>\n",
       "    <tr>\n",
       "      <th>4</th>\n",
       "      <td>2022-07-29 00:00:00-04:00</td>\n",
       "      <td>17.787341</td>\n",
       "      <td>18.217720</td>\n",
       "      <td>17.666515</td>\n",
       "      <td>18.136837</td>\n",
       "      <td>435460000</td>\n",
       "    </tr>\n",
       "  </tbody>\n",
       "</table>\n",
       "</div>"
      ],
      "text/plain": [
       "                       Date       Open       High        Low      Close  \\\n",
       "0 2022-07-25 00:00:00-04:00  16.994482  17.099332  16.625016  16.999475   \n",
       "1 2022-07-26 00:00:00-04:00  16.864672  16.894629  16.454265  16.509186   \n",
       "2 2022-07-27 00:00:00-04:00  17.007466  17.910165  16.888638  17.764376   \n",
       "3 2022-07-28 00:00:00-04:00  17.949110  18.113871  17.414880  17.958096   \n",
       "4 2022-07-29 00:00:00-04:00  17.787341  18.217720  17.666515  18.136837   \n",
       "\n",
       "      Volume  \n",
       "0  480748000  \n",
       "1  397865000  \n",
       "2  569776000  \n",
       "3  474646000  \n",
       "4  435460000  "
      ]
     },
     "execution_count": 16,
     "metadata": {},
     "output_type": "execute_result"
    }
   ],
   "source": [
    "df.head()"
   ]
  },
  {
   "cell_type": "code",
   "execution_count": 17,
   "id": "d2e23267",
   "metadata": {},
   "outputs": [
    {
     "data": {
      "text/plain": [
       "(752, 6)"
      ]
     },
     "execution_count": 17,
     "metadata": {},
     "output_type": "execute_result"
    }
   ],
   "source": [
    "df.shape"
   ]
  },
  {
   "cell_type": "markdown",
   "id": "72a598a3",
   "metadata": {},
   "source": [
    "## Feature Engineering"
   ]
  },
  {
   "cell_type": "markdown",
   "id": "3d6e844c",
   "metadata": {},
   "source": [
    "### Technical Indicators"
   ]
  },
  {
   "cell_type": "code",
   "execution_count": 18,
   "id": "cbe47f2c",
   "metadata": {},
   "outputs": [],
   "source": [
    "# RSI (Relative Strength Index)\n",
    "\n",
    "import pandas as pd\n",
    "\n",
    "\n",
    "def compute_rsi(prices: pd.Series, period: int = 14) -> pd.Series:\n",
    "    delta = prices.diff()\n",
    "\n",
    "    gain = delta.clip(lower=0)\n",
    "    loss = -delta.clip(upper=0)\n",
    "\n",
    "    avg_gain = gain.rolling(window=period).mean()\n",
    "    avg_loss = loss.rolling(window=period).mean()\n",
    "\n",
    "    rs = avg_gain / avg_loss\n",
    "    rsi = 100 - (100 / (1 + rs))\n",
    "\n",
    "    return rsi\n"
   ]
  },
  {
   "cell_type": "code",
   "execution_count": 19,
   "id": "a574e073",
   "metadata": {},
   "outputs": [],
   "source": [
    "# EMA (Exponential Moving Averages)\n",
    "\n",
    "def compute_ema(series: pd.Series, span: int) -> pd.Series:\n",
    "    return series.ewm(span=span, adjust=False).mean()"
   ]
  },
  {
   "cell_type": "code",
   "execution_count": 20,
   "id": "7a24e669",
   "metadata": {},
   "outputs": [],
   "source": [
    "#  MACD (Moving Average Convergence Divergence)\n",
    "\n",
    "def compute_macd(prices: pd.Series):\n",
    "    ema_12 = compute_ema(prices, span=12)\n",
    "    ema_26 = compute_ema(prices, span=26)\n",
    "\n",
    "    macd_line = ema_12 - ema_26\n",
    "    signal_line = compute_ema(macd_line, span=9)\n",
    "    histogram = macd_line - signal_line\n",
    "\n",
    "    return macd_line, signal_line, histogram"
   ]
  },
  {
   "cell_type": "code",
   "execution_count": 21,
   "id": "f7a64ecc",
   "metadata": {},
   "outputs": [],
   "source": [
    "# Bollinger Bands\n",
    "\n",
    "def compute_bollinger_bands(prices: pd.Series, window: int = 20, num_std: int = 2):\n",
    "    sma = prices.rolling(window=window).mean()\n",
    "    std = prices.rolling(window=window).std()\n",
    "    \n",
    "    bb_upper = sma + num_std * std\n",
    "    bb_lower = sma - num_std * std\n",
    "    \n",
    "    return bb_upper, sma, bb_lower"
   ]
  },
  {
   "cell_type": "code",
   "execution_count": 22,
   "id": "c153ca9c",
   "metadata": {},
   "outputs": [],
   "source": [
    "df[\"RSI\"] = compute_rsi(df[\"Close\"])\n",
    "df[\"MACD\"], df[\"MACD_signal\"], df[\"MACD_hist\"] = compute_macd(df[\"Close\"])\n",
    "df[\"BB_upper\"], df[\"BB_middle\"], df[\"BB_lower\"] = compute_bollinger_bands(df[\"Close\"])"
   ]
  },
  {
   "cell_type": "markdown",
   "id": "6b02eebf",
   "metadata": {},
   "source": [
    "### Lag Features"
   ]
  },
  {
   "cell_type": "code",
   "execution_count": 23,
   "id": "909f916e",
   "metadata": {},
   "outputs": [],
   "source": [
    "for lag in range(1, 6):\n",
    "    df[f\"Close_lag_{lag}\"] = df[\"Close\"].shift(lag)"
   ]
  },
  {
   "cell_type": "markdown",
   "id": "7d1a6b0b",
   "metadata": {},
   "source": [
    "### Rolling Statistics"
   ]
  },
  {
   "cell_type": "code",
   "execution_count": 24,
   "id": "e80d70a3",
   "metadata": {},
   "outputs": [],
   "source": [
    "df[\"Close_rolling_mean_5\"] = df[\"Close\"].rolling(window=5).mean()"
   ]
  },
  {
   "cell_type": "markdown",
   "id": "9e7482fa",
   "metadata": {},
   "source": [
    "## Data Cleaning"
   ]
  },
  {
   "cell_type": "code",
   "execution_count": 25,
   "id": "ca726bf4",
   "metadata": {},
   "outputs": [],
   "source": [
    "df.dropna(inplace=True)"
   ]
  },
  {
   "cell_type": "code",
   "execution_count": 26,
   "id": "5014445f",
   "metadata": {},
   "outputs": [
    {
     "data": {
      "text/html": [
       "<div>\n",
       "<style scoped>\n",
       "    .dataframe tbody tr th:only-of-type {\n",
       "        vertical-align: middle;\n",
       "    }\n",
       "\n",
       "    .dataframe tbody tr th {\n",
       "        vertical-align: top;\n",
       "    }\n",
       "\n",
       "    .dataframe thead th {\n",
       "        text-align: right;\n",
       "    }\n",
       "</style>\n",
       "<table border=\"1\" class=\"dataframe\">\n",
       "  <thead>\n",
       "    <tr style=\"text-align: right;\">\n",
       "      <th></th>\n",
       "      <th>Date</th>\n",
       "      <th>Open</th>\n",
       "      <th>High</th>\n",
       "      <th>Low</th>\n",
       "      <th>Close</th>\n",
       "      <th>Volume</th>\n",
       "      <th>RSI</th>\n",
       "      <th>MACD</th>\n",
       "      <th>MACD_signal</th>\n",
       "      <th>MACD_hist</th>\n",
       "      <th>BB_upper</th>\n",
       "      <th>BB_middle</th>\n",
       "      <th>BB_lower</th>\n",
       "      <th>Close_lag_1</th>\n",
       "      <th>Close_lag_2</th>\n",
       "      <th>Close_lag_3</th>\n",
       "      <th>Close_lag_4</th>\n",
       "      <th>Close_lag_5</th>\n",
       "      <th>Close_rolling_mean_5</th>\n",
       "    </tr>\n",
       "  </thead>\n",
       "  <tbody>\n",
       "    <tr>\n",
       "      <th>747</th>\n",
       "      <td>2025-07-17 00:00:00-04:00</td>\n",
       "      <td>172.020004</td>\n",
       "      <td>174.160004</td>\n",
       "      <td>170.830002</td>\n",
       "      <td>173.000000</td>\n",
       "      <td>160841100</td>\n",
       "      <td>78.758823</td>\n",
       "      <td>7.910958</td>\n",
       "      <td>7.155343</td>\n",
       "      <td>0.755615</td>\n",
       "      <td>175.514337</td>\n",
       "      <td>158.282001</td>\n",
       "      <td>141.049664</td>\n",
       "      <td>171.369995</td>\n",
       "      <td>170.699997</td>\n",
       "      <td>164.070007</td>\n",
       "      <td>164.919998</td>\n",
       "      <td>164.100006</td>\n",
       "      <td>168.812000</td>\n",
       "    </tr>\n",
       "    <tr>\n",
       "      <th>748</th>\n",
       "      <td>2025-07-18 00:00:00-04:00</td>\n",
       "      <td>173.639999</td>\n",
       "      <td>174.250000</td>\n",
       "      <td>171.259995</td>\n",
       "      <td>172.410004</td>\n",
       "      <td>146456400</td>\n",
       "      <td>75.171740</td>\n",
       "      <td>7.982884</td>\n",
       "      <td>7.320851</td>\n",
       "      <td>0.662033</td>\n",
       "      <td>176.857465</td>\n",
       "      <td>159.628501</td>\n",
       "      <td>142.399538</td>\n",
       "      <td>173.000000</td>\n",
       "      <td>171.369995</td>\n",
       "      <td>170.699997</td>\n",
       "      <td>164.070007</td>\n",
       "      <td>164.919998</td>\n",
       "      <td>170.310001</td>\n",
       "    </tr>\n",
       "    <tr>\n",
       "      <th>749</th>\n",
       "      <td>2025-07-21 00:00:00-04:00</td>\n",
       "      <td>172.750000</td>\n",
       "      <td>173.380005</td>\n",
       "      <td>171.000000</td>\n",
       "      <td>171.380005</td>\n",
       "      <td>123126100</td>\n",
       "      <td>72.383849</td>\n",
       "      <td>7.866098</td>\n",
       "      <td>7.429900</td>\n",
       "      <td>0.436197</td>\n",
       "      <td>177.299776</td>\n",
       "      <td>161.005001</td>\n",
       "      <td>144.710226</td>\n",
       "      <td>172.410004</td>\n",
       "      <td>173.000000</td>\n",
       "      <td>171.369995</td>\n",
       "      <td>170.699997</td>\n",
       "      <td>164.070007</td>\n",
       "      <td>171.772000</td>\n",
       "    </tr>\n",
       "    <tr>\n",
       "      <th>750</th>\n",
       "      <td>2025-07-22 00:00:00-04:00</td>\n",
       "      <td>171.339996</td>\n",
       "      <td>171.389999</td>\n",
       "      <td>164.580002</td>\n",
       "      <td>167.029999</td>\n",
       "      <td>193114300</td>\n",
       "      <td>73.216120</td>\n",
       "      <td>7.337947</td>\n",
       "      <td>7.411510</td>\n",
       "      <td>-0.073562</td>\n",
       "      <td>176.570008</td>\n",
       "      <td>162.148001</td>\n",
       "      <td>147.725994</td>\n",
       "      <td>171.380005</td>\n",
       "      <td>172.410004</td>\n",
       "      <td>173.000000</td>\n",
       "      <td>171.369995</td>\n",
       "      <td>170.699997</td>\n",
       "      <td>171.038000</td>\n",
       "    </tr>\n",
       "    <tr>\n",
       "      <th>751</th>\n",
       "      <td>2025-07-23 00:00:00-04:00</td>\n",
       "      <td>169.529999</td>\n",
       "      <td>171.259995</td>\n",
       "      <td>167.970001</td>\n",
       "      <td>170.779999</td>\n",
       "      <td>153077000</td>\n",
       "      <td>73.033734</td>\n",
       "      <td>7.139677</td>\n",
       "      <td>7.357143</td>\n",
       "      <td>-0.217467</td>\n",
       "      <td>176.537090</td>\n",
       "      <td>163.292001</td>\n",
       "      <td>150.046913</td>\n",
       "      <td>167.029999</td>\n",
       "      <td>171.380005</td>\n",
       "      <td>172.410004</td>\n",
       "      <td>173.000000</td>\n",
       "      <td>171.369995</td>\n",
       "      <td>170.920001</td>\n",
       "    </tr>\n",
       "  </tbody>\n",
       "</table>\n",
       "</div>"
      ],
      "text/plain": [
       "                         Date        Open        High         Low       Close  \\\n",
       "747 2025-07-17 00:00:00-04:00  172.020004  174.160004  170.830002  173.000000   \n",
       "748 2025-07-18 00:00:00-04:00  173.639999  174.250000  171.259995  172.410004   \n",
       "749 2025-07-21 00:00:00-04:00  172.750000  173.380005  171.000000  171.380005   \n",
       "750 2025-07-22 00:00:00-04:00  171.339996  171.389999  164.580002  167.029999   \n",
       "751 2025-07-23 00:00:00-04:00  169.529999  171.259995  167.970001  170.779999   \n",
       "\n",
       "        Volume        RSI      MACD  MACD_signal  MACD_hist    BB_upper  \\\n",
       "747  160841100  78.758823  7.910958     7.155343   0.755615  175.514337   \n",
       "748  146456400  75.171740  7.982884     7.320851   0.662033  176.857465   \n",
       "749  123126100  72.383849  7.866098     7.429900   0.436197  177.299776   \n",
       "750  193114300  73.216120  7.337947     7.411510  -0.073562  176.570008   \n",
       "751  153077000  73.033734  7.139677     7.357143  -0.217467  176.537090   \n",
       "\n",
       "      BB_middle    BB_lower  Close_lag_1  Close_lag_2  Close_lag_3  \\\n",
       "747  158.282001  141.049664   171.369995   170.699997   164.070007   \n",
       "748  159.628501  142.399538   173.000000   171.369995   170.699997   \n",
       "749  161.005001  144.710226   172.410004   173.000000   171.369995   \n",
       "750  162.148001  147.725994   171.380005   172.410004   173.000000   \n",
       "751  163.292001  150.046913   167.029999   171.380005   172.410004   \n",
       "\n",
       "     Close_lag_4  Close_lag_5  Close_rolling_mean_5  \n",
       "747   164.919998   164.100006            168.812000  \n",
       "748   164.070007   164.919998            170.310001  \n",
       "749   170.699997   164.070007            171.772000  \n",
       "750   171.369995   170.699997            171.038000  \n",
       "751   173.000000   171.369995            170.920001  "
      ]
     },
     "execution_count": 26,
     "metadata": {},
     "output_type": "execute_result"
    }
   ],
   "source": [
    "df.tail()"
   ]
  },
  {
   "cell_type": "code",
   "execution_count": 27,
   "id": "8d3e754b",
   "metadata": {},
   "outputs": [
    {
     "data": {
      "text/plain": [
       "Index(['Date', 'Open', 'High', 'Low', 'Close', 'Volume', 'RSI', 'MACD',\n",
       "       'MACD_signal', 'MACD_hist', 'BB_upper', 'BB_middle', 'BB_lower',\n",
       "       'Close_lag_1', 'Close_lag_2', 'Close_lag_3', 'Close_lag_4',\n",
       "       'Close_lag_5', 'Close_rolling_mean_5'],\n",
       "      dtype='object')"
      ]
     },
     "execution_count": 27,
     "metadata": {},
     "output_type": "execute_result"
    }
   ],
   "source": [
    "df.columns"
   ]
  },
  {
   "cell_type": "markdown",
   "id": "c96eea90",
   "metadata": {},
   "source": [
    "## Save Data"
   ]
  },
  {
   "cell_type": "code",
   "execution_count": 28,
   "id": "aacf232a",
   "metadata": {},
   "outputs": [],
   "source": [
    "df.to_csv(f'../data/{ticker_symbol}.csv', index=False)"
   ]
  }
 ],
 "metadata": {
  "kernelspec": {
   "display_name": "venv",
   "language": "python",
   "name": "python3"
  },
  "language_info": {
   "codemirror_mode": {
    "name": "ipython",
    "version": 3
   },
   "file_extension": ".py",
   "mimetype": "text/x-python",
   "name": "python",
   "nbconvert_exporter": "python",
   "pygments_lexer": "ipython3",
   "version": "3.12.7"
  }
 },
 "nbformat": 4,
 "nbformat_minor": 5
}
